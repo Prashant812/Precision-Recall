{
 "cells": [
  {
   "cell_type": "markdown",
   "metadata": {},
   "source": [
    "# Measures To Evaluate Performance of Softwares"
   ]
  },
  {
   "cell_type": "code",
   "execution_count": 13,
   "metadata": {},
   "outputs": [],
   "source": [
    "import pandas as pd\n",
    "from matplotlib import pyplot as plt\n",
    "import seaborn as sns\n",
    "from sklearn.model_selection import train_test_split\n",
    "from sklearn.neighbors import KNeighborsClassifier\n",
    "from sklearn.metrics import confusion_matrix, classification_report\n",
    "from sklearn.preprocessing import MinMaxScaler\n",
    "from sklearn.metrics import accuracy_score\n",
    "import numpy as np"
   ]
  },
  {
   "cell_type": "markdown",
   "metadata": {},
   "source": [
    "Using Steel Plates Faults Data Set as a csv file"
   ]
  },
  {
   "cell_type": "code",
   "execution_count": 14,
   "metadata": {},
   "outputs": [
    {
     "data": {
      "text/html": [
       "<div>\n",
       "<style scoped>\n",
       "    .dataframe tbody tr th:only-of-type {\n",
       "        vertical-align: middle;\n",
       "    }\n",
       "\n",
       "    .dataframe tbody tr th {\n",
       "        vertical-align: top;\n",
       "    }\n",
       "\n",
       "    .dataframe thead th {\n",
       "        text-align: right;\n",
       "    }\n",
       "</style>\n",
       "<table border=\"1\" class=\"dataframe\">\n",
       "  <thead>\n",
       "    <tr style=\"text-align: right;\">\n",
       "      <th></th>\n",
       "      <th>X_Minimum</th>\n",
       "      <th>X_Maximum</th>\n",
       "      <th>Y_Minimum</th>\n",
       "      <th>Y_Maximum</th>\n",
       "      <th>Pixels_Areas</th>\n",
       "      <th>X_Perimeter</th>\n",
       "      <th>Y_Perimeter</th>\n",
       "      <th>Sum_of_Luminosity</th>\n",
       "      <th>Minimum_of_Luminosity</th>\n",
       "      <th>Maximum_of_Luminosity</th>\n",
       "      <th>...</th>\n",
       "      <th>Edges_X_Index</th>\n",
       "      <th>Edges_Y_Index</th>\n",
       "      <th>Outside_Global_Index</th>\n",
       "      <th>LogOfAreas</th>\n",
       "      <th>Log_X_Index</th>\n",
       "      <th>Log_Y_Index</th>\n",
       "      <th>Orientation_Index</th>\n",
       "      <th>Luminosity_Index</th>\n",
       "      <th>SigmoidOfAreas</th>\n",
       "      <th>Class</th>\n",
       "    </tr>\n",
       "  </thead>\n",
       "  <tbody>\n",
       "    <tr>\n",
       "      <th>0</th>\n",
       "      <td>1325</td>\n",
       "      <td>1339</td>\n",
       "      <td>30207</td>\n",
       "      <td>30238</td>\n",
       "      <td>268</td>\n",
       "      <td>29</td>\n",
       "      <td>31</td>\n",
       "      <td>25809</td>\n",
       "      <td>79</td>\n",
       "      <td>124</td>\n",
       "      <td>...</td>\n",
       "      <td>0.4828</td>\n",
       "      <td>1.0000</td>\n",
       "      <td>1.0</td>\n",
       "      <td>2.4281</td>\n",
       "      <td>1.1461</td>\n",
       "      <td>1.4914</td>\n",
       "      <td>0.5484</td>\n",
       "      <td>-0.2476</td>\n",
       "      <td>0.7065</td>\n",
       "      <td>1</td>\n",
       "    </tr>\n",
       "    <tr>\n",
       "      <th>1</th>\n",
       "      <td>1</td>\n",
       "      <td>16</td>\n",
       "      <td>55572</td>\n",
       "      <td>55629</td>\n",
       "      <td>370</td>\n",
       "      <td>48</td>\n",
       "      <td>62</td>\n",
       "      <td>39293</td>\n",
       "      <td>27</td>\n",
       "      <td>119</td>\n",
       "      <td>...</td>\n",
       "      <td>0.3125</td>\n",
       "      <td>0.9194</td>\n",
       "      <td>1.0</td>\n",
       "      <td>2.5682</td>\n",
       "      <td>1.1761</td>\n",
       "      <td>1.7559</td>\n",
       "      <td>0.7368</td>\n",
       "      <td>-0.1703</td>\n",
       "      <td>0.9755</td>\n",
       "      <td>1</td>\n",
       "    </tr>\n",
       "    <tr>\n",
       "      <th>2</th>\n",
       "      <td>1323</td>\n",
       "      <td>1333</td>\n",
       "      <td>68445</td>\n",
       "      <td>68506</td>\n",
       "      <td>330</td>\n",
       "      <td>48</td>\n",
       "      <td>61</td>\n",
       "      <td>33449</td>\n",
       "      <td>90</td>\n",
       "      <td>119</td>\n",
       "      <td>...</td>\n",
       "      <td>0.2083</td>\n",
       "      <td>1.0000</td>\n",
       "      <td>1.0</td>\n",
       "      <td>2.5185</td>\n",
       "      <td>1.0000</td>\n",
       "      <td>1.7853</td>\n",
       "      <td>0.8361</td>\n",
       "      <td>-0.2081</td>\n",
       "      <td>0.8861</td>\n",
       "      <td>1</td>\n",
       "    </tr>\n",
       "    <tr>\n",
       "      <th>3</th>\n",
       "      <td>1324</td>\n",
       "      <td>1333</td>\n",
       "      <td>75642</td>\n",
       "      <td>75681</td>\n",
       "      <td>207</td>\n",
       "      <td>25</td>\n",
       "      <td>39</td>\n",
       "      <td>21354</td>\n",
       "      <td>93</td>\n",
       "      <td>124</td>\n",
       "      <td>...</td>\n",
       "      <td>0.3600</td>\n",
       "      <td>1.0000</td>\n",
       "      <td>1.0</td>\n",
       "      <td>2.3160</td>\n",
       "      <td>0.9542</td>\n",
       "      <td>1.5911</td>\n",
       "      <td>0.7692</td>\n",
       "      <td>-0.1941</td>\n",
       "      <td>0.5805</td>\n",
       "      <td>1</td>\n",
       "    </tr>\n",
       "    <tr>\n",
       "      <th>4</th>\n",
       "      <td>1324</td>\n",
       "      <td>1335</td>\n",
       "      <td>97132</td>\n",
       "      <td>97213</td>\n",
       "      <td>594</td>\n",
       "      <td>55</td>\n",
       "      <td>81</td>\n",
       "      <td>61608</td>\n",
       "      <td>93</td>\n",
       "      <td>125</td>\n",
       "      <td>...</td>\n",
       "      <td>0.2000</td>\n",
       "      <td>1.0000</td>\n",
       "      <td>1.0</td>\n",
       "      <td>2.7738</td>\n",
       "      <td>1.0414</td>\n",
       "      <td>1.9085</td>\n",
       "      <td>0.8642</td>\n",
       "      <td>-0.1897</td>\n",
       "      <td>0.9806</td>\n",
       "      <td>1</td>\n",
       "    </tr>\n",
       "  </tbody>\n",
       "</table>\n",
       "<p>5 rows × 28 columns</p>\n",
       "</div>"
      ],
      "text/plain": [
       "   X_Minimum  X_Maximum  Y_Minimum  Y_Maximum  Pixels_Areas  X_Perimeter  \\\n",
       "0       1325       1339      30207      30238           268           29   \n",
       "1          1         16      55572      55629           370           48   \n",
       "2       1323       1333      68445      68506           330           48   \n",
       "3       1324       1333      75642      75681           207           25   \n",
       "4       1324       1335      97132      97213           594           55   \n",
       "\n",
       "   Y_Perimeter  Sum_of_Luminosity  Minimum_of_Luminosity  \\\n",
       "0           31              25809                     79   \n",
       "1           62              39293                     27   \n",
       "2           61              33449                     90   \n",
       "3           39              21354                     93   \n",
       "4           81              61608                     93   \n",
       "\n",
       "   Maximum_of_Luminosity  ...  Edges_X_Index  Edges_Y_Index  \\\n",
       "0                    124  ...         0.4828         1.0000   \n",
       "1                    119  ...         0.3125         0.9194   \n",
       "2                    119  ...         0.2083         1.0000   \n",
       "3                    124  ...         0.3600         1.0000   \n",
       "4                    125  ...         0.2000         1.0000   \n",
       "\n",
       "   Outside_Global_Index  LogOfAreas  Log_X_Index  Log_Y_Index  \\\n",
       "0                   1.0      2.4281       1.1461       1.4914   \n",
       "1                   1.0      2.5682       1.1761       1.7559   \n",
       "2                   1.0      2.5185       1.0000       1.7853   \n",
       "3                   1.0      2.3160       0.9542       1.5911   \n",
       "4                   1.0      2.7738       1.0414       1.9085   \n",
       "\n",
       "   Orientation_Index  Luminosity_Index  SigmoidOfAreas  Class  \n",
       "0             0.5484           -0.2476          0.7065      1  \n",
       "1             0.7368           -0.1703          0.9755      1  \n",
       "2             0.8361           -0.2081          0.8861      1  \n",
       "3             0.7692           -0.1941          0.5805      1  \n",
       "4             0.8642           -0.1897          0.9806      1  \n",
       "\n",
       "[5 rows x 28 columns]"
      ]
     },
     "execution_count": 14,
     "metadata": {},
     "output_type": "execute_result"
    }
   ],
   "source": [
    "df = pd.read_csv('SteelPlateFaults-2class.csv')\n",
    "df.head()"
   ]
  },
  {
   "cell_type": "markdown",
   "metadata": {},
   "source": [
    "Splitting the data of each class from SteelPlateFaults-2class.csv into train data and test data"
   ]
  },
  {
   "cell_type": "code",
   "execution_count": 15,
   "metadata": {},
   "outputs": [],
   "source": [
    "#In class '0'\n",
    "df_0 = df[df[\"Class\"]==0]\n",
    "\n",
    "[X_train_0, X_test_0,X_label_train_0,X_label_test_0] = train_test_split(df_0,\n",
    "                                   df_0['Class'], test_size=0.3,\n",
    "                                   random_state=42, shuffle=True)\n",
    "\n",
    "#In class '1'\n",
    "df_1 = df[df[\"Class\"]==1]\n",
    "\n",
    "[X_train_1, X_test_1,\n",
    "  X_label_train_1,\n",
    "  X_label_test_1] = train_test_split(df_1,\n",
    "                                   df_1['Class'], test_size=0.3,\n",
    "                                   random_state=42, shuffle=True)                            \n",
    "## Joining the training of class 0 and 1\n",
    "# and testing data of class 0 and 1\n",
    "[X_train, X_test, X_label_train,\n",
    " X_label_test] = [X_train_0.append(X_train_1),\n",
    "                  X_test_0.append(X_test_1),\n",
    "                  X_label_train_0.append(X_label_train_1),\n",
    "                  X_label_test_0.append(X_label_test_1)]"
   ]
  },
  {
   "cell_type": "markdown",
   "metadata": {},
   "source": [
    "Normalizing all the attributes (except class attribute) of SteelPlateFaults-train.csv using Min-Max normalization to transform the data in the range [0-1]"
   ]
  },
  {
   "cell_type": "markdown",
   "metadata": {},
   "source": [
    "Normalizing X_train :-"
   ]
  },
  {
   "cell_type": "code",
   "execution_count": 16,
   "metadata": {},
   "outputs": [
    {
     "name": "stdout",
     "output_type": "stream",
     "text": [
      "   X_Minimum  X_Maximum  Y_Minimum  Y_Maximum  Pixels_Areas  X_Perimeter  \\\n",
      "0   0.542522   0.543911   0.047166   0.047166      0.000478     0.000670   \n",
      "1   0.052199   0.085480   0.222930   0.222935      0.012492     0.016560   \n",
      "2   0.024047   0.124707   0.245024   0.245028      0.042587     0.025079   \n",
      "3   0.024047   0.110070   0.167649   0.167659      0.070362     0.062219   \n",
      "4   0.024047   0.120609   0.175973   0.175977      0.042561     0.024983   \n",
      "\n",
      "   Y_Perimeter  Sum_of_Luminosity  Minimum_of_Luminosity  \\\n",
      "0     0.000551           0.001065               0.765306   \n",
      "1     0.006832           0.021121               0.612245   \n",
      "2     0.007383           0.058436               0.204082   \n",
      "3     0.022974           0.106950               0.193878   \n",
      "4     0.007493           0.058347               0.219388   \n",
      "\n",
      "   Maximum_of_Luminosity  ...  Edges_X_Index  Edges_Y_Index  \\\n",
      "0               0.662037  ...       1.000000       1.000000   \n",
      "1               0.476852  ...       0.344866       0.537621   \n",
      "2               0.402778  ...       0.665584       0.470681   \n",
      "3               0.486111  ...       0.221895       0.308638   \n",
      "4               0.407407  ...       0.641234       0.463115   \n",
      "\n",
      "   Outside_Global_Index  LogOfAreas  Log_X_Index  Log_Y_Index  \\\n",
      "0                   1.0    0.322383     0.235549     0.244535   \n",
      "1                   1.0    0.610277     0.537810     0.433254   \n",
      "2                   0.0    0.719295     0.702102     0.428793   \n",
      "3                   0.0    0.763942     0.678230     0.506093   \n",
      "4                   0.0    0.719233     0.695756     0.428793   \n",
      "\n",
      "   Orientation_Index  Luminosity_Index  SigmoidOfAreas  Class  \n",
      "0           0.591517          0.824443         0.09773    0.0  \n",
      "1           0.557472          0.630142         1.00000    0.0  \n",
      "2           0.186362          0.511322         1.00000    0.0  \n",
      "3           0.469965          0.566486         1.00000    0.0  \n",
      "4           0.194230          0.510882         1.00000    0.0  \n",
      "\n",
      "[5 rows x 28 columns]\n"
     ]
    }
   ],
   "source": [
    "min_max_scaler = MinMaxScaler()\n",
    "X_train_normalised = min_max_scaler.fit_transform(X_train)\n",
    "X_train_normalised = pd.DataFrame(X_train_normalised)\n",
    "X_train_normalised.rename(columns={i: list(df)[i] for i in range(len(list(df)))}, inplace=True)\n",
    "print(X_train_normalised.head())"
   ]
  },
  {
   "cell_type": "markdown",
   "metadata": {},
   "source": [
    "Normalizing X_test :-"
   ]
  },
  {
   "cell_type": "code",
   "execution_count": 17,
   "metadata": {
    "scrolled": true
   },
   "outputs": [
    {
     "name": "stdout",
     "output_type": "stream",
     "text": [
      "   X_Minimum  X_Maximum  Y_Minimum  Y_Maximum  Pixels_Areas  X_Perimeter  \\\n",
      "0   0.435196   0.440668   0.015306   0.015306      0.004401     0.010601   \n",
      "1   0.959572   0.970185   0.062702   0.062705      0.024795     0.023852   \n",
      "2   0.489893   0.489565   0.086577   0.086577      0.001140     0.002650   \n",
      "3   0.023187   0.119857   0.211414   0.211420      0.267319     0.238516   \n",
      "4   0.040428   0.116279   0.734280   0.734284      0.171795     0.152827   \n",
      "\n",
      "   Y_Perimeter  Sum_of_Luminosity  Minimum_of_Luminosity  \\\n",
      "0     0.012968           0.007982               1.000000   \n",
      "1     0.047550           0.015214               0.281250   \n",
      "2     0.008646           0.002049               0.822917   \n",
      "3     0.200288           0.231757               0.208333   \n",
      "4     0.141210           0.154306               0.354167   \n",
      "\n",
      "   Maximum_of_Luminosity  ...  Edges_X_Index  Edges_Y_Index  \\\n",
      "0               0.788732  ...       1.000000       1.000000   \n",
      "1               0.253521  ...       0.704166       0.966829   \n",
      "2               0.666667  ...       0.879475       1.000000   \n",
      "3               0.399061  ...       0.595140       0.440617   \n",
      "4               0.413146  ...       0.751573       0.454883   \n",
      "\n",
      "   Outside_Global_Index  LogOfAreas  Log_X_Index  Log_Y_Index  \\\n",
      "0                   0.0    0.248951     0.316805     0.325565   \n",
      "1                   1.0    0.474570     0.367652     0.541069   \n",
      "2                   0.5    0.113718     0.173425     0.264752   \n",
      "3                   0.0    0.810998     0.716862     0.686967   \n",
      "4                   0.0    0.747844     0.676926     0.625846   \n",
      "\n",
      "   Orientation_Index  Luminosity_Index  SigmoidOfAreas  Class  \n",
      "0           0.297871          1.000000        0.216743    0.0  \n",
      "1           0.659553          0.327111        0.963015    0.0  \n",
      "2           0.503813          0.841112        0.025009    0.0  \n",
      "3           0.197734          0.483579        1.000000    0.0  \n",
      "4           0.177664          0.503837        1.000000    0.0  \n",
      "\n",
      "[5 rows x 28 columns]\n"
     ]
    }
   ],
   "source": [
    "# Dropping the tuples having out of bound values\n",
    "# (As compared with the min. and max. from training data)\n",
    "drop_tuple_indexes = set()\n",
    "for i in range(len(list(df))):\n",
    "    for j in X_test.index:\n",
    "        if(X_test[list(X_test)[i]][j] < min_max_scaler.data_min_[i]):\n",
    "            drop_tuple_indexes.add(j)\n",
    "        if(X_test[list(X_test)[i]][j] > min_max_scaler.data_max_[i]):\n",
    "            drop_tuple_indexes.add(j)\n",
    "\n",
    "X_test_normalised = min_max_scaler.fit_transform(X_test.drop(list(drop_tuple_indexes), axis=0))\n",
    "X_test_normalised = pd.DataFrame(X_test_normalised)\n",
    "X_test_normalised.rename(columns={i: list(df)[i] for i in range(len(list(df)))}, inplace=True)\n",
    "print(X_test_normalised.head())"
   ]
  },
  {
   "cell_type": "markdown",
   "metadata": {},
   "source": [
    "# KNN Classifier\n",
    "Using the KNN Classifier to classify given dataset"
   ]
  },
  {
   "cell_type": "code",
   "execution_count": 18,
   "metadata": {},
   "outputs": [
    {
     "data": {
      "text/plain": [
       "KNeighborsClassifier(n_neighbors=3)"
      ]
     },
     "execution_count": 18,
     "metadata": {},
     "output_type": "execute_result"
    }
   ],
   "source": [
    "knn = KNeighborsClassifier(n_neighbors=3)\n",
    "knn.fit(X_train_normalised[list(df)[:-1]],X_train_normalised['Class'])"
   ]
  },
  {
   "cell_type": "code",
   "execution_count": 19,
   "metadata": {},
   "outputs": [
    {
     "name": "stdout",
     "output_type": "stream",
     "text": [
      "Accuracy : 0.98\n"
     ]
    }
   ],
   "source": [
    "print(\"Accuracy : %.2f\"%(knn.score(X_test_normalised[list(df)[:-1]],X_test_normalised['Class'])))"
   ]
  },
  {
   "cell_type": "code",
   "execution_count": 20,
   "metadata": {},
   "outputs": [],
   "source": [
    "def print_confusion_matrix(confusion_matrix, class_names, figsize = (10,7), fontsize=14):\n",
    "    df_cm = pd.DataFrame(\n",
    "        confusion_matrix, index=class_names, columns=class_names, \n",
    "    )\n",
    "    fig = plt.figure(figsize=figsize)\n",
    "    try:\n",
    "        heatmap = sns.heatmap(df_cm, annot=True, fmt=\"d\")\n",
    "    except ValueError:\n",
    "        raise ValueError(\"Confusion matrix values must be integers.\")\n",
    "    heatmap.yaxis.set_ticklabels(heatmap.yaxis.get_ticklabels(), rotation=0, ha='right', fontsize=fontsize)\n",
    "    heatmap.xaxis.set_ticklabels(heatmap.xaxis.get_ticklabels(), rotation=45, ha='right', fontsize=fontsize)\n",
    "    plt.ylabel('Truth')\n",
    "    plt.xlabel('Prediction')"
   ]
  },
  {
   "cell_type": "code",
   "execution_count": 21,
   "metadata": {},
   "outputs": [
    {
     "data": {
      "image/png": "[encoded data removed]",
      "text/plain": [
       "<Figure size 720x504 with 2 Axes>"
      ]
     },
     "metadata": {
      "needs_background": "light"
     },
     "output_type": "display_data"
    }
   ],
   "source": [
    "cm = confusion_matrix(X_test_normalised['Class'],knn.predict(X_test_normalised[list(df)[:-1]]))\n",
    "print_confusion_matrix(cm,[\"Class: 0\",\"Class: 1\"])"
   ]
  },
  {
   "cell_type": "code",
   "execution_count": 23,
   "metadata": {},
   "outputs": [
    {
     "name": "stdout",
     "output_type": "stream",
     "text": [
      "              precision    recall  f1-score   support\n",
      "\n",
      "         0.0       0.97      0.96      0.97       116\n",
      "         1.0       0.98      0.99      0.98       213\n",
      "\n",
      "    accuracy                           0.98       329\n",
      "   macro avg       0.98      0.97      0.97       329\n",
      "weighted avg       0.98      0.98      0.98       329\n",
      "\n"
     ]
    }
   ],
   "source": [
    "report = classification_report(X_test_normalised['Class'],knn.predict(X_test_normalised[list(df)[:-1]]))\n",
    "print(classification_report(X_test_normalised['Class'],knn.predict(X_test_normalised[list(df)[:-1]])))"
   ]
  },
  {
   "cell_type": "markdown",
   "metadata": {},
   "source": [
    "Verifying it manually for class 0:-"
   ]
  },
  {
   "cell_type": "code",
   "execution_count": 33,
   "metadata": {},
   "outputs": [
    {
     "name": "stdout",
     "output_type": "stream",
     "text": [
      "0.9736842105263158\n"
     ]
    }
   ],
   "source": [
    "#Precision = TP/TP+FP\n",
    "Precision = 111/(111+3)\n",
    "print(Precision)"
   ]
  },
  {
   "cell_type": "code",
   "execution_count": 34,
   "metadata": {},
   "outputs": [
    {
     "name": "stdout",
     "output_type": "stream",
     "text": [
      "0.9568965517241379\n"
     ]
    }
   ],
   "source": [
    "#Recall = TP/TP + FN\n",
    "Recall = 111/(111+5)\n",
    "print(Recall)"
   ]
  },
  {
   "cell_type": "code",
   "execution_count": 42,
   "metadata": {},
   "outputs": [
    {
     "name": "stdout",
     "output_type": "stream",
     "text": [
      "0.9649740932642487\n"
     ]
    }
   ],
   "source": [
    "#f1-score = 2*Precision *Recall/Precision+Recall\n",
    "f1_score = 2*0.97*0.96/(0.97+0.96)\n",
    "print(f1_score)"
   ]
  },
  {
   "cell_type": "code",
   "execution_count": null,
   "metadata": {},
   "outputs": [],
   "source": []
  }
 ],
 "metadata": {
  "kernelspec": {
   "display_name": "Python 3",
   "language": "python",
   "name": "python3"
  },
  "language_info": {
   "codemirror_mode": {
    "name": "ipython",
    "version": 3
   },
   "file_extension": ".py",
   "mimetype": "text/x-python",
   "name": "python",
   "nbconvert_exporter": "python",
   "pygments_lexer": "ipython3",
   "version": "3.8.3"
  }
 },
 "nbformat": 4,
 "nbformat_minor": 4
}
